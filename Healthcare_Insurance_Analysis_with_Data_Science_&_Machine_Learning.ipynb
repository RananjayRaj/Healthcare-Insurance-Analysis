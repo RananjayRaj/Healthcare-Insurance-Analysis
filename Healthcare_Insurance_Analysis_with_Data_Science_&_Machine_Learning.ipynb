{
  "nbformat": 4,
  "nbformat_minor": 0,
  "metadata": {
    "colab": {
      "provenance": []
    },
    "kernelspec": {
      "name": "python3",
      "display_name": "Python 3"
    },
    "language_info": {
      "name": "python"
    }
  },
  "cells": [
    {
      "cell_type": "code",
      "execution_count": 4,
      "metadata": {
        "colab": {
          "base_uri": "https://localhost:8080/",
          "height": 144
        },
        "id": "SkNg_8GfqrTm",
        "outputId": "ce7f403a-2865-4de0-c595-319b47fabf07"
      },
      "outputs": [
        {
          "output_type": "display_data",
          "data": {
            "text/plain": [
              "<IPython.core.display.HTML object>"
            ],
            "text/html": [
              "\n",
              "     <input type=\"file\" id=\"files-cbc82f4f-fd13-47ae-ba31-1dbccce52522\" name=\"files[]\" multiple disabled\n",
              "        style=\"border:none\" />\n",
              "     <output id=\"result-cbc82f4f-fd13-47ae-ba31-1dbccce52522\">\n",
              "      Upload widget is only available when the cell has been executed in the\n",
              "      current browser session. Please rerun this cell to enable.\n",
              "      </output>\n",
              "      <script>// Copyright 2017 Google LLC\n",
              "//\n",
              "// Licensed under the Apache License, Version 2.0 (the \"License\");\n",
              "// you may not use this file except in compliance with the License.\n",
              "// You may obtain a copy of the License at\n",
              "//\n",
              "//      http://www.apache.org/licenses/LICENSE-2.0\n",
              "//\n",
              "// Unless required by applicable law or agreed to in writing, software\n",
              "// distributed under the License is distributed on an \"AS IS\" BASIS,\n",
              "// WITHOUT WARRANTIES OR CONDITIONS OF ANY KIND, either express or implied.\n",
              "// See the License for the specific language governing permissions and\n",
              "// limitations under the License.\n",
              "\n",
              "/**\n",
              " * @fileoverview Helpers for google.colab Python module.\n",
              " */\n",
              "(function(scope) {\n",
              "function span(text, styleAttributes = {}) {\n",
              "  const element = document.createElement('span');\n",
              "  element.textContent = text;\n",
              "  for (const key of Object.keys(styleAttributes)) {\n",
              "    element.style[key] = styleAttributes[key];\n",
              "  }\n",
              "  return element;\n",
              "}\n",
              "\n",
              "// Max number of bytes which will be uploaded at a time.\n",
              "const MAX_PAYLOAD_SIZE = 100 * 1024;\n",
              "\n",
              "function _uploadFiles(inputId, outputId) {\n",
              "  const steps = uploadFilesStep(inputId, outputId);\n",
              "  const outputElement = document.getElementById(outputId);\n",
              "  // Cache steps on the outputElement to make it available for the next call\n",
              "  // to uploadFilesContinue from Python.\n",
              "  outputElement.steps = steps;\n",
              "\n",
              "  return _uploadFilesContinue(outputId);\n",
              "}\n",
              "\n",
              "// This is roughly an async generator (not supported in the browser yet),\n",
              "// where there are multiple asynchronous steps and the Python side is going\n",
              "// to poll for completion of each step.\n",
              "// This uses a Promise to block the python side on completion of each step,\n",
              "// then passes the result of the previous step as the input to the next step.\n",
              "function _uploadFilesContinue(outputId) {\n",
              "  const outputElement = document.getElementById(outputId);\n",
              "  const steps = outputElement.steps;\n",
              "\n",
              "  const next = steps.next(outputElement.lastPromiseValue);\n",
              "  return Promise.resolve(next.value.promise).then((value) => {\n",
              "    // Cache the last promise value to make it available to the next\n",
              "    // step of the generator.\n",
              "    outputElement.lastPromiseValue = value;\n",
              "    return next.value.response;\n",
              "  });\n",
              "}\n",
              "\n",
              "/**\n",
              " * Generator function which is called between each async step of the upload\n",
              " * process.\n",
              " * @param {string} inputId Element ID of the input file picker element.\n",
              " * @param {string} outputId Element ID of the output display.\n",
              " * @return {!Iterable<!Object>} Iterable of next steps.\n",
              " */\n",
              "function* uploadFilesStep(inputId, outputId) {\n",
              "  const inputElement = document.getElementById(inputId);\n",
              "  inputElement.disabled = false;\n",
              "\n",
              "  const outputElement = document.getElementById(outputId);\n",
              "  outputElement.innerHTML = '';\n",
              "\n",
              "  const pickedPromise = new Promise((resolve) => {\n",
              "    inputElement.addEventListener('change', (e) => {\n",
              "      resolve(e.target.files);\n",
              "    });\n",
              "  });\n",
              "\n",
              "  const cancel = document.createElement('button');\n",
              "  inputElement.parentElement.appendChild(cancel);\n",
              "  cancel.textContent = 'Cancel upload';\n",
              "  const cancelPromise = new Promise((resolve) => {\n",
              "    cancel.onclick = () => {\n",
              "      resolve(null);\n",
              "    };\n",
              "  });\n",
              "\n",
              "  // Wait for the user to pick the files.\n",
              "  const files = yield {\n",
              "    promise: Promise.race([pickedPromise, cancelPromise]),\n",
              "    response: {\n",
              "      action: 'starting',\n",
              "    }\n",
              "  };\n",
              "\n",
              "  cancel.remove();\n",
              "\n",
              "  // Disable the input element since further picks are not allowed.\n",
              "  inputElement.disabled = true;\n",
              "\n",
              "  if (!files) {\n",
              "    return {\n",
              "      response: {\n",
              "        action: 'complete',\n",
              "      }\n",
              "    };\n",
              "  }\n",
              "\n",
              "  for (const file of files) {\n",
              "    const li = document.createElement('li');\n",
              "    li.append(span(file.name, {fontWeight: 'bold'}));\n",
              "    li.append(span(\n",
              "        `(${file.type || 'n/a'}) - ${file.size} bytes, ` +\n",
              "        `last modified: ${\n",
              "            file.lastModifiedDate ? file.lastModifiedDate.toLocaleDateString() :\n",
              "                                    'n/a'} - `));\n",
              "    const percent = span('0% done');\n",
              "    li.appendChild(percent);\n",
              "\n",
              "    outputElement.appendChild(li);\n",
              "\n",
              "    const fileDataPromise = new Promise((resolve) => {\n",
              "      const reader = new FileReader();\n",
              "      reader.onload = (e) => {\n",
              "        resolve(e.target.result);\n",
              "      };\n",
              "      reader.readAsArrayBuffer(file);\n",
              "    });\n",
              "    // Wait for the data to be ready.\n",
              "    let fileData = yield {\n",
              "      promise: fileDataPromise,\n",
              "      response: {\n",
              "        action: 'continue',\n",
              "      }\n",
              "    };\n",
              "\n",
              "    // Use a chunked sending to avoid message size limits. See b/62115660.\n",
              "    let position = 0;\n",
              "    do {\n",
              "      const length = Math.min(fileData.byteLength - position, MAX_PAYLOAD_SIZE);\n",
              "      const chunk = new Uint8Array(fileData, position, length);\n",
              "      position += length;\n",
              "\n",
              "      const base64 = btoa(String.fromCharCode.apply(null, chunk));\n",
              "      yield {\n",
              "        response: {\n",
              "          action: 'append',\n",
              "          file: file.name,\n",
              "          data: base64,\n",
              "        },\n",
              "      };\n",
              "\n",
              "      let percentDone = fileData.byteLength === 0 ?\n",
              "          100 :\n",
              "          Math.round((position / fileData.byteLength) * 100);\n",
              "      percent.textContent = `${percentDone}% done`;\n",
              "\n",
              "    } while (position < fileData.byteLength);\n",
              "  }\n",
              "\n",
              "  // All done.\n",
              "  yield {\n",
              "    response: {\n",
              "      action: 'complete',\n",
              "    }\n",
              "  };\n",
              "}\n",
              "\n",
              "scope.google = scope.google || {};\n",
              "scope.google.colab = scope.google.colab || {};\n",
              "scope.google.colab._files = {\n",
              "  _uploadFiles,\n",
              "  _uploadFilesContinue,\n",
              "};\n",
              "})(self);\n",
              "</script> "
            ]
          },
          "metadata": {}
        },
        {
          "output_type": "stream",
          "name": "stdout",
          "text": [
            "Saving Hospitalisation details.csv to Hospitalisation details.csv\n",
            "Saving Medical Examinations.csv to Medical Examinations.csv\n",
            "Saving Names.xlsx to Names.xlsx\n"
          ]
        }
      ],
      "source": [
        "from google.colab import files\n",
        "uploaded = files.upload()"
      ]
    },
    {
      "cell_type": "code",
      "source": [],
      "metadata": {
        "id": "xDJXNLX4rm4_"
      },
      "execution_count": null,
      "outputs": []
    },
    {
      "cell_type": "markdown",
      "source": [
        "1. Load and Collate Data:\n",
        "\n",
        "\n"
      ],
      "metadata": {
        "id": "Mu0GmimZrD5J"
      }
    },
    {
      "cell_type": "code",
      "source": [
        "import pandas as pd\n",
        "\n",
        "# Load the datasets\n",
        "hospitalization_df = pd.read_csv('Hospitalisation details.csv')\n",
        "medical_examinations_df = pd.read_csv('Medical Examinations.csv')\n",
        "names_df = pd.read_excel('Names.xlsx')\n",
        "\n",
        "# Merge datasets on Customer ID\n",
        "merged_df = hospitalization_df.merge(medical_examinations_df, on='Customer ID').merge(names_df, on='Customer ID')\n",
        "\n",
        "# Display the first few rows of the merged dataframe\n",
        "print(merged_df.head())"
      ],
      "metadata": {
        "colab": {
          "base_uri": "https://localhost:8080/"
        },
        "id": "Le_izIx7rJZe",
        "outputId": "b271a557-a068-44e1-b9f8-38d106574448"
      },
      "execution_count": 5,
      "outputs": [
        {
          "output_type": "stream",
          "name": "stdout",
          "text": [
            "  Customer ID  year month  date  children  charges Hospital tier City tier  \\\n",
            "0      Id2335  1992   Jul     9         0   563.84      tier - 2  tier - 3   \n",
            "1      Id2334  1992   Nov    30         0   570.62      tier - 2  tier - 1   \n",
            "2      Id2333  1993   Jun    30         0   600.00      tier - 2  tier - 1   \n",
            "3      Id2332  1992   Sep    13         0   604.54      tier - 3  tier - 3   \n",
            "4      Id2331  1998   Jul    27         0   637.26      tier - 3  tier - 3   \n",
            "\n",
            "  State ID    BMI  HBA1C Heart Issues Any Transplants Cancer history  \\\n",
            "0    R1013  17.58   4.51           No              No             No   \n",
            "1    R1013  17.60   4.39           No              No             No   \n",
            "2    R1013  16.47   6.35           No              No            Yes   \n",
            "3    R1013  17.70   6.28           No              No             No   \n",
            "4    R1013  22.34   5.57           No              No             No   \n",
            "\n",
            "  NumberOfMajorSurgeries smoker                                name  \n",
            "0                      1     No                German, Mr.  Aaron K  \n",
            "1                      1     No              Rosendahl, Mr.  Evan P  \n",
            "2                      1     No                  Albano, Ms.  Julie  \n",
            "3                      1     No  Riveros Gonzalez, Mr.  Juan D. Sr.  \n",
            "4                      1     No               Brietzke, Mr.  Jordan  \n"
          ]
        }
      ]
    },
    {
      "cell_type": "markdown",
      "source": [],
      "metadata": {
        "id": "c5NeUBwrtJ5q"
      }
    },
    {
      "cell_type": "markdown",
      "source": [
        "**2. Check for Missing Values:**"
      ],
      "metadata": {
        "id": "RrDupaHktOox"
      }
    },
    {
      "cell_type": "code",
      "source": [
        "# Check for missing values\n",
        "missing_values = merged_df.isnull().sum()\n",
        "print(missing_values)"
      ],
      "metadata": {
        "colab": {
          "base_uri": "https://localhost:8080/"
        },
        "id": "sADIWku-tQRs",
        "outputId": "5d4d0539-2afe-49fb-d08b-d5a532181566"
      },
      "execution_count": 7,
      "outputs": [
        {
          "output_type": "stream",
          "name": "stdout",
          "text": [
            "Customer ID               0\n",
            "year                      0\n",
            "month                     0\n",
            "date                      0\n",
            "children                  0\n",
            "charges                   0\n",
            "Hospital tier             0\n",
            "City tier                 0\n",
            "State ID                  0\n",
            "BMI                       0\n",
            "HBA1C                     0\n",
            "Heart Issues              0\n",
            "Any Transplants           0\n",
            "Cancer history            0\n",
            "NumberOfMajorSurgeries    0\n",
            "smoker                    0\n",
            "name                      0\n",
            "dtype: int64\n"
          ]
        }
      ]
    },
    {
      "cell_type": "code",
      "source": [],
      "metadata": {
        "id": "ECinKNRstfBM"
      },
      "execution_count": null,
      "outputs": []
    },
    {
      "cell_type": "markdown",
      "source": [
        "**3. Handle Missing Values and Clean Data:**"
      ],
      "metadata": {
        "id": "VhGe9eSqtggy"
      }
    },
    {
      "cell_type": "code",
      "source": [
        "# Handle missing values (example: filling missing values with mean or dropping rows/columns)\n",
        "merged_df = merged_df.dropna()\n",
        "\n",
        "# Clean the 'NumberOfMajorSurgeries' column if it contains string values\n",
        "merged_df['NumberOfMajorSurgeries'] = merged_df['NumberOfMajorSurgeries'].apply(lambda x: str(x).replace('string_to_replace', 'desired_value'))\n",
        "\n",
        "print(merged_df.head())"
      ],
      "metadata": {
        "colab": {
          "base_uri": "https://localhost:8080/"
        },
        "id": "BpB1SXqAtjuI",
        "outputId": "14d71f55-2343-4a0c-d128-774284d28843"
      },
      "execution_count": 8,
      "outputs": [
        {
          "output_type": "stream",
          "name": "stdout",
          "text": [
            "  Customer ID  year month  date  children  charges Hospital tier City tier  \\\n",
            "0      Id2335  1992   Jul     9         0   563.84      tier - 2  tier - 3   \n",
            "1      Id2334  1992   Nov    30         0   570.62      tier - 2  tier - 1   \n",
            "2      Id2333  1993   Jun    30         0   600.00      tier - 2  tier - 1   \n",
            "3      Id2332  1992   Sep    13         0   604.54      tier - 3  tier - 3   \n",
            "4      Id2331  1998   Jul    27         0   637.26      tier - 3  tier - 3   \n",
            "\n",
            "  State ID    BMI  HBA1C Heart Issues Any Transplants Cancer history  \\\n",
            "0    R1013  17.58   4.51           No              No             No   \n",
            "1    R1013  17.60   4.39           No              No             No   \n",
            "2    R1013  16.47   6.35           No              No            Yes   \n",
            "3    R1013  17.70   6.28           No              No             No   \n",
            "4    R1013  22.34   5.57           No              No             No   \n",
            "\n",
            "  NumberOfMajorSurgeries smoker                                name  \n",
            "0                      1     No                German, Mr.  Aaron K  \n",
            "1                      1     No              Rosendahl, Mr.  Evan P  \n",
            "2                      1     No                  Albano, Ms.  Julie  \n",
            "3                      1     No  Riveros Gonzalez, Mr.  Juan D. Sr.  \n",
            "4                      1     No               Brietzke, Mr.  Jordan  \n"
          ]
        }
      ]
    },
    {
      "cell_type": "code",
      "source": [],
      "metadata": {
        "id": "ClefrvwztmKB"
      },
      "execution_count": null,
      "outputs": []
    },
    {
      "cell_type": "markdown",
      "source": [
        "**4. Calculate Age and Determine Gender:**"
      ],
      "metadata": {
        "id": "bNoB4nnetplz"
      }
    },
    {
      "cell_type": "code",
      "source": [
        "from datetime import datetime\n",
        "\n",
        "# Calculate age based on date of birth\n",
        "current_year = datetime.now().year\n",
        "# Convert 'year' column to numeric, handling non-numeric values\n",
        "merged_df['year'] = pd.to_numeric(merged_df['year'], errors='coerce')\n",
        "merged_df['Age'] = current_year - merged_df['year']\n",
        "\n",
        "# Determine gender based on salutations in names\n",
        "def extract_gender(name):\n",
        "    if 'Mr' in name:\n",
        "        return 'Male'\n",
        "    elif 'Ms' in name or 'Mrs' in name:\n",
        "        return 'Female'\n",
        "    else:\n",
        "        return 'Unknown'\n",
        "\n",
        "merged_df['Gender'] = merged_df['name'].apply(extract_gender)\n",
        "\n",
        "print(merged_df.head())"
      ],
      "metadata": {
        "colab": {
          "base_uri": "https://localhost:8080/"
        },
        "id": "BvGYVujutq7v",
        "outputId": "c6c45c7e-2f02-44fb-943d-4eeb6fdf5267"
      },
      "execution_count": 10,
      "outputs": [
        {
          "output_type": "stream",
          "name": "stdout",
          "text": [
            "  Customer ID    year month  date  children  charges Hospital tier City tier  \\\n",
            "0      Id2335  1992.0   Jul     9         0   563.84      tier - 2  tier - 3   \n",
            "1      Id2334  1992.0   Nov    30         0   570.62      tier - 2  tier - 1   \n",
            "2      Id2333  1993.0   Jun    30         0   600.00      tier - 2  tier - 1   \n",
            "3      Id2332  1992.0   Sep    13         0   604.54      tier - 3  tier - 3   \n",
            "4      Id2331  1998.0   Jul    27         0   637.26      tier - 3  tier - 3   \n",
            "\n",
            "  State ID    BMI  HBA1C Heart Issues Any Transplants Cancer history  \\\n",
            "0    R1013  17.58   4.51           No              No             No   \n",
            "1    R1013  17.60   4.39           No              No             No   \n",
            "2    R1013  16.47   6.35           No              No            Yes   \n",
            "3    R1013  17.70   6.28           No              No             No   \n",
            "4    R1013  22.34   5.57           No              No             No   \n",
            "\n",
            "  NumberOfMajorSurgeries smoker                                name   Age  \\\n",
            "0                      1     No                German, Mr.  Aaron K  32.0   \n",
            "1                      1     No              Rosendahl, Mr.  Evan P  32.0   \n",
            "2                      1     No                  Albano, Ms.  Julie  31.0   \n",
            "3                      1     No  Riveros Gonzalez, Mr.  Juan D. Sr.  32.0   \n",
            "4                      1     No               Brietzke, Mr.  Jordan  26.0   \n",
            "\n",
            "   Gender  \n",
            "0    Male  \n",
            "1    Male  \n",
            "2  Female  \n",
            "3    Male  \n",
            "4    Male  \n"
          ]
        }
      ]
    },
    {
      "cell_type": "code",
      "source": [],
      "metadata": {
        "id": "jEevNuicttV4"
      },
      "execution_count": null,
      "outputs": []
    },
    {
      "cell_type": "markdown",
      "source": [
        "**5. Exploratory Data Analysis (EDA):**"
      ],
      "metadata": {
        "id": "UA5EJgVnuTcZ"
      }
    },
    {
      "cell_type": "code",
      "source": [
        "import seaborn as sns\n",
        "import matplotlib.pyplot as plt\n",
        "\n",
        "# Distribution of hospitalization costs\n",
        "sns.histplot(merged_df['charges'], kde=True)\n",
        "plt.title('Distribution of Hospitalization Costs')\n",
        "plt.show()\n",
        "\n",
        "# Boxplot by gender\n",
        "sns.boxplot(x='Gender', y='charges', data=merged_df)\n",
        "plt.title('Hospitalization Costs by Gender')\n",
        "plt.show()\n",
        "\n",
        "# Radar chart for median hospitalization costs by hospital tier\n",
        "median_costs = merged_df.groupby('Hospital tier')['charges'].median()\n",
        "median_costs.plot(kind='line', marker='o')\n",
        "plt.title('Median Hospitalization Costs by Hospital Tier')\n",
        "plt.show()\n",
        "\n",
        "# Frequency table and stacked bar chart for city and hospital tier counts\n",
        "freq_table = pd.crosstab(merged_df['City tier'], merged_df['Hospital tier'])\n",
        "freq_table.plot(kind='bar', stacked=True)\n",
        "plt.title('Counts by City Tier and Hospital Tier')\n",
        "plt.show()"
      ],
      "metadata": {
        "colab": {
          "base_uri": "https://localhost:8080/",
          "height": 1000
        },
        "id": "4dk-AzcsuU_4",
        "outputId": "cfb79b0a-d814-4c04-a7d3-b03465804eb2"
      },
      "execution_count": 11,
      "outputs": [
        {
          "output_type": "display_data",
          "data": {
            "text/plain": [
              "<Figure size 640x480 with 1 Axes>"
            ],
            "image/png": "[encoded data removed]"
          },
          "metadata": {}
        },
        {
          "output_type": "display_data",
          "data": {
            "text/plain": [
              "<Figure size 640x480 with 1 Axes>"
            ],
            "image/png": "[encoded data removed]"
          },
          "metadata": {}
        },
        {
          "output_type": "display_data",
          "data": {
            "text/plain": [
              "<Figure size 640x480 with 1 Axes>"
            ],
            "image/png": "[encoded data removed]"
          },
          "metadata": {}
        },
        {
          "output_type": "display_data",
          "data": {
            "text/plain": [
              "<Figure size 640x480 with 1 Axes>"
            ],
            "image/png": "[encoded data removed]"
          },
          "metadata": {}
        }
      ]
    },
    {
      "cell_type": "code",
      "source": [],
      "metadata": {
        "id": "lyI2jciBuX4a"
      },
      "execution_count": null,
      "outputs": []
    },
    {
      "cell_type": "markdown",
      "source": [
        "**6. Hypothesis Testing:**"
      ],
      "metadata": {
        "id": "6Tk0Vs9fud58"
      }
    },
    {
      "cell_type": "code",
      "source": [
        "from scipy import stats\n",
        "\n",
        "# Test hypotheses\n",
        "# a. Average hospitalization costs by hospital type\n",
        "anova_result = stats.f_oneway(\n",
        "    merged_df[merged_df['Hospital tier'] == 'tier-1']['charges'],\n",
        "    merged_df[merged_df['Hospital tier'] == 'tier-2']['charges'],\n",
        "    merged_df[merged_df['Hospital tier'] == 'tier-3']['charges']\n",
        ")\n",
        "print(f'ANOVA result for hospital tiers: p-value = {anova_result.pvalue}')\n",
        "\n",
        "# b. Average hospitalization costs by city type\n",
        "anova_result = stats.f_oneway(\n",
        "    merged_df[merged_df['City tier'] == 'tier-1']['charges'],\n",
        "    merged_df[merged_df['City tier'] == 'tier-2']['charges'],\n",
        "    merged_df[merged_df['City tier'] == 'tier-3']['charges']\n",
        ")\n",
        "print(f'ANOVA result for city tiers: p-value = {anova_result.pvalue}')\n",
        "\n",
        "# c. Average hospitalization cost for smokers vs non-smokers\n",
        "ttest_result = stats.ttest_ind(\n",
        "    merged_df[merged_df['smoker'] == 'yes']['charges'],\n",
        "    merged_df[merged_df['smoker'] == 'no']['charges']\n",
        ")\n",
        "print(f'T-test result for smokers vs non-smokers: p-value = {ttest_result.pvalue}')\n",
        "\n",
        "# d. Independence of smoking and heart issues\n",
        "contingency_table = pd.crosstab(merged_df['smoker'], merged_df['Heart Issues'])\n",
        "chi2_result = stats.chi2_contingency(contingency_table)\n",
        "print(f'Chi-square test result for smoking and heart issues: p-value = {chi2_result[1]}')"
      ],
      "metadata": {
        "colab": {
          "base_uri": "https://localhost:8080/"
        },
        "id": "fkuSe1RmufJI",
        "outputId": "47c1858a-f419-49f3-b79c-ddbb4701fbfb"
      },
      "execution_count": 12,
      "outputs": [
        {
          "output_type": "stream",
          "name": "stdout",
          "text": [
            "ANOVA result for hospital tiers: p-value = nan\n",
            "ANOVA result for city tiers: p-value = nan\n",
            "T-test result for smokers vs non-smokers: p-value = nan\n",
            "Chi-square test result for smoking and heart issues: p-value = 0.4980479888388789\n"
          ]
        },
        {
          "output_type": "stream",
          "name": "stderr",
          "text": [
            "/usr/local/lib/python3.10/dist-packages/scipy/stats/_stats_py.py:4133: DegenerateDataWarning: at least one input has length 0\n",
            "  warnings.warn(stats.DegenerateDataWarning('at least one input '\n"
          ]
        }
      ]
    },
    {
      "cell_type": "code",
      "source": [],
      "metadata": {
        "id": "FfjhE13Tuh9z"
      },
      "execution_count": null,
      "outputs": []
    },
    {
      "cell_type": "markdown",
      "source": [
        "**7. Model Development:**"
      ],
      "metadata": {
        "id": "WGePXTYKutW8"
      }
    },
    {
      "cell_type": "code",
      "source": [
        "from sklearn.compose import ColumnTransformer\n",
        "from sklearn.preprocessing import OneHotEncoder\n",
        "from sklearn.pipeline import Pipeline\n",
        "from sklearn.model_selection import train_test_split, cross_val_score, KFold\n",
        "from sklearn.linear_model import LinearRegression\n",
        "from sklearn.preprocessing import StandardScaler\n",
        "from sklearn.impute import SimpleImputer\n",
        "import pandas as pd\n",
        "\n",
        "# Prepare the data for modeling\n",
        "X = merged_df.drop(columns=['charges'])\n",
        "y = merged_df['charges']\n",
        "\n",
        "# Identify categorical columns\n",
        "categorical_cols = X.select_dtypes(include=['object']).columns\n",
        "print(f\"Categorical columns: {categorical_cols}\")\n",
        "\n",
        "# Create a ColumnTransformer to handle preprocessing for different columns\n",
        "preprocessor = ColumnTransformer(\n",
        "    transformers=[\n",
        "        ('num', SimpleImputer(strategy='mean'), X.select_dtypes(exclude=['object']).columns),\n",
        "        ('cat', OneHotEncoder(handle_unknown='ignore', sparse_output=False), categorical_cols)\n",
        "    ])\n",
        "\n",
        "# Create a pipeline with the preprocessor and the model\n",
        "pipeline = Pipeline([\n",
        "    ('preprocessor', preprocessor),\n",
        "    ('scaler', StandardScaler(with_mean=False)),\n",
        "    ('regressor', LinearRegression())\n",
        "])\n",
        "\n",
        "# Split the data\n",
        "X_train, X_test, y_train, y_test = train_test_split(X, y, test_size=0.2, random_state=42)\n",
        "\n",
        "# Debugging: Check for missing values in training data\n",
        "print(\"Missing values in X_train:\")\n",
        "print(X_train.isnull().sum())\n",
        "\n",
        "# Debugging: Check for types in training data\n",
        "print(\"Data types in X_train:\")\n",
        "print(X_train.dtypes)\n",
        "\n",
        "# Cross-validate the model\n",
        "kfold = KFold(n_splits=5, shuffle=True, random_state=42)\n",
        "cv_results = cross_val_score(pipeline, X_train, y_train, cv=kfold, scoring='neg_mean_squared_error', error_score='raise')\n",
        "print(f'Cross-validated MSE: {cv_results.mean()}')\n",
        "\n",
        "# Fit the model\n",
        "pipeline.fit(X_train, y_train)\n",
        "\n",
        "# Predict on test data\n",
        "predictions = pipeline.predict(X_test)\n",
        "print(predictions)"
      ],
      "metadata": {
        "colab": {
          "base_uri": "https://localhost:8080/"
        },
        "id": "4VHUaDHHw9FT",
        "outputId": "56f1587c-19ac-41c5-e5de-1709260a3f53"
      },
      "execution_count": 22,
      "outputs": [
        {
          "output_type": "stream",
          "name": "stdout",
          "text": [
            "Categorical columns: Index(['Customer ID', 'month', 'Hospital tier', 'City tier', 'State ID',\n",
            "       'Heart Issues', 'Any Transplants', 'Cancer history',\n",
            "       'NumberOfMajorSurgeries', 'smoker', 'name', 'Gender'],\n",
            "      dtype='object')\n",
            "Missing values in X_train:\n",
            "Customer ID               0\n",
            "year                      2\n",
            "month                     0\n",
            "date                      0\n",
            "children                  0\n",
            "Hospital tier             0\n",
            "City tier                 0\n",
            "State ID                  0\n",
            "BMI                       0\n",
            "HBA1C                     0\n",
            "Heart Issues              0\n",
            "Any Transplants           0\n",
            "Cancer history            0\n",
            "NumberOfMajorSurgeries    0\n",
            "smoker                    0\n",
            "name                      0\n",
            "Age                       2\n",
            "Gender                    0\n",
            "dtype: int64\n",
            "Data types in X_train:\n",
            "Customer ID                object\n",
            "year                      float64\n",
            "month                      object\n",
            "date                        int64\n",
            "children                    int64\n",
            "Hospital tier              object\n",
            "City tier                  object\n",
            "State ID                   object\n",
            "BMI                       float64\n",
            "HBA1C                     float64\n",
            "Heart Issues               object\n",
            "Any Transplants            object\n",
            "Cancer history             object\n",
            "NumberOfMajorSurgeries     object\n",
            "smoker                     object\n",
            "name                       object\n",
            "Age                       float64\n",
            "Gender                     object\n",
            "dtype: object\n",
            "Cross-validated MSE: -47489380.88984986\n",
            "[22434.2075396  20372.22038172 20917.71110289 10809.72812459\n",
            " 22246.92794713 16818.38183441 12848.01156021 13004.52274441\n",
            " 22468.80603583 11208.34146921  9119.56832011 28836.46255807\n",
            " 10207.81103488  8566.75764361 12794.96862377 23079.47178354\n",
            " 11040.12687779 12412.54058134 20410.94752947  8736.22737538\n",
            " 12710.7184117  11897.67836612 14772.70733546 13199.31205256\n",
            " 23722.68404916 13057.18819665  6657.57244467  7730.28329372\n",
            " 16371.85493512 18461.30650115 26786.34890843  6871.45219529\n",
            " 10141.98912253 13311.68767143 12036.72969755 10643.28318545\n",
            "  8422.58417089 12303.14826545 10965.70899905 26782.37337083\n",
            " 23936.07444187 23905.21540593 13043.20099625 16292.23204888\n",
            " 11562.02248724 13194.57088956  8492.0795988   8398.48607881\n",
            "  6556.37902413 21931.864574   24716.69101598  8862.80101198\n",
            " 22962.05320367 12688.24479478 20346.05100315 19378.91421522\n",
            " 17729.80756986 25835.1778655  23364.39594037 10060.41387937\n",
            " 19383.87093148  6807.03086279  9057.26009989 10607.8925046\n",
            " 11921.59360347  7748.72199607  8325.81968517  9047.18655056\n",
            " 12518.0588474  24648.98015077 13151.32185101 10837.47839432\n",
            " 12326.12370373 12203.15899241 29053.36579814  9046.15190779\n",
            "  9167.32662098  8492.36432665  9425.62541027 10483.6351168\n",
            " 13251.5752161  10928.56189201  8503.07704992 11183.45179261\n",
            "  9916.23008478 12259.87155636  8888.3917132  11193.33058467\n",
            " 12555.39255639 11605.84608948 25506.93493547 14089.64494825\n",
            " 10949.40314864  6367.2872798   8765.08926779 10760.42644184\n",
            " 12684.91295667  9716.18227988  9714.06405872  9772.72956039\n",
            " 19037.65171343  9414.29225588 13286.62958396 23103.60717088\n",
            " 12824.10048851 14395.36026392 23169.32528488 19260.13140131\n",
            " 25015.78696409  8690.38018059 21015.33925922 26797.72623123\n",
            "  9195.04766062 11645.72490107 10949.5390844  15773.01870556\n",
            "  9446.89360697 12811.82231125 24949.20602628 11703.88573495\n",
            " 13274.71685859  6633.51745026  9996.20057919  9333.45498672\n",
            "  7169.90252547 14381.59803594  6628.25452802 29320.04076013\n",
            " 15876.48026203  7007.49707122 12545.3317884  13746.04586235\n",
            " 20397.13379797 23490.82180104 11602.34948807  7805.29136185\n",
            " 12775.54918011 10261.46074339 10112.41347268  9031.32517286\n",
            " 23204.36235919 10760.482099   11102.81038229 19224.68563101\n",
            " 13542.95067646 11370.31711687 28687.95392982 11535.88772173\n",
            "  9949.56244573  9987.88516175 12560.90659754 14901.05418214\n",
            " 13883.33229765 11903.50374799 13025.72122041 25131.77076104\n",
            " 24663.549461   12126.4491267  24827.70477484 24678.20283068\n",
            " 10538.60112605 12406.76692844  5255.56303953 10721.33664268\n",
            "  8307.49717223  9304.96042826  7485.59889934  8390.8130571\n",
            "  8908.59654337 18981.2924419  20413.7132346  25864.74171332\n",
            "  5583.04762362  9452.04879682  9266.59272806  8930.82095665\n",
            "  7529.98533888 15806.12786711 23857.1255424   9111.64921748\n",
            " 11820.50822634 26618.07056058 21799.77125406  9782.77115699\n",
            " 10386.94336673 12780.15781635 10554.75821817 11044.90614955\n",
            "  6285.79244899 20745.72678703 25766.63619947  8966.60241864\n",
            " 27058.36022169 13044.90525436 11754.13683367  8686.50300081\n",
            "  9971.89932746  8610.18925749  9527.61889767 11627.36956468\n",
            " 12448.50750531 12650.76783479 23842.9481822  15778.8529472\n",
            "  8027.83238774 10560.06694917 11696.72788177 14197.73684114\n",
            "  9236.68995084 10549.51128943  8572.91744295 12284.79275934\n",
            "  9937.7816366   9500.92181161  9897.02777903  8874.81552815\n",
            "  9384.61053585 19419.11464041 11574.1613696  15050.99180203\n",
            "  8061.98445305  7095.00054147 15170.82722277 12377.39161832\n",
            " 10479.23680902  9349.13799783 21334.87164603 12773.82666498\n",
            " 21466.63352269 11187.34024175 18409.21937775 11937.93658916\n",
            " 11191.62106011 19474.60774717  6477.72920538  9458.76285365\n",
            " 16528.09348616  7934.73025409 12629.11087246  9393.33378992\n",
            "  8958.26178711 12856.40996316 14167.80033101  9122.69402096\n",
            "  7019.61880718 12619.47036837 12674.9324312  14514.60415899\n",
            " 22818.44938858 12772.68675655 25317.67405895 23268.47023988\n",
            " 10713.5508631  10170.38136308 23501.07822395 23032.29570805\n",
            " 10688.64366904  8626.54594027 11158.49198008 13385.63147941\n",
            " 13130.45707571 12370.07679349 13256.32728735 12806.55583259\n",
            "  5083.10045626 10666.33314328  3486.84801182 11228.34957875\n",
            " 13643.910519    6975.56892822 22872.49382988 11807.78390409\n",
            " 10622.67898919 14563.7711719   8422.69700402 13653.76576956\n",
            " 17278.05004884 30194.90885963 12308.02382463 10474.94717553\n",
            " 11720.45199187  9517.06077199 13835.10183008 12820.76026703\n",
            "  7283.39018629 11751.9264484  24638.58006977 13945.86019019\n",
            " 13007.98269007 29621.17782022 10737.65041335 17075.61692836\n",
            " 13434.43807221 24744.75897512 23040.58391003  9837.80567243\n",
            "  9692.21235038  9415.17148185  5929.17718889 12998.9518563\n",
            "  7795.49204645  9514.44178523 13952.03719525 10450.84893126\n",
            "  9246.75457531 14067.07200161  9808.34943288 12951.31690253\n",
            " 10720.8101472  11047.02396311 10160.36191948 15957.59836264\n",
            " 19558.24590029  8789.17660063 25248.07140573  8966.44822363\n",
            "  6939.44225389 12598.36685533 18228.74917492 10427.81871052\n",
            " 10114.16643412 26268.41231396  9693.57406189  6725.77932081\n",
            "  8803.43311985 11011.12481902 13922.47328261 11035.29418027\n",
            "  9146.02088442  8613.86793085 10930.96179825  7915.89693219\n",
            " 10673.66820759  9045.84914777 13158.42067915 17625.37029674\n",
            " 24210.64801026  9919.23507657 11589.33797774 30242.45910875\n",
            " 11159.54532506  8538.43126364 11049.84624549  9992.67024805\n",
            " 10181.0591872  11783.63975627  7393.88986088  9317.53376436\n",
            "  9471.99211343 12569.30696395 13922.30381959  8527.46203138\n",
            " 20989.24502248 12865.31842352  7910.64977625 10584.05769599\n",
            " 12619.71454794 22828.44009391 18665.2050669  13127.43960297\n",
            " 24506.79337741  7520.51861129  8429.95989984 11763.31538705\n",
            "  8945.36070015 26920.0730719  23933.5195969  20036.33848044\n",
            "  8995.5258295  12981.17637101 20426.58131886  6797.01234329\n",
            " 10887.0911234  18527.65274236 12944.87606686 10642.57877166\n",
            " 11921.55042605 11343.82653323 20818.04785604  4867.27816702\n",
            "  9582.15136714 10395.34763878  5113.23896912  9051.63875894\n",
            " 20155.06902736  9499.02100068 13053.45274323 11433.11068321\n",
            " 10637.40818152 25588.57543548  7322.77083117 10974.41916155\n",
            "  8928.69686848 10571.39918434  9040.09854275 10491.36236279\n",
            " 10197.69957972 12316.78723784 12887.05284544 21491.97162379\n",
            " 13549.7856992  28921.6741136  12888.87466467  9699.99475651\n",
            " 10322.87126389 21536.6913037  11190.06093656  7304.96915262\n",
            " 16163.69009444 25482.11168085 11792.87776089  8749.05869301\n",
            " 11362.11107165 11954.2421854  30913.2197288   9670.81330768\n",
            " 14481.79398998  8749.38430397 22467.98847213  5841.017965\n",
            "  5654.99817439 10897.90302485  9962.523568   17594.09590303\n",
            "  9712.22485882 12766.101927   11924.87869543 14727.57275317\n",
            "  8224.74585647  9420.99452443 10209.493657   13606.85977568\n",
            " 12218.36592865  9219.67901677  9972.97979958  7361.03940879\n",
            " 12664.27513044  5108.48625256  7274.95265654 12786.38788296\n",
            "  7972.4830246  10054.62276014  6607.80205077 27054.91641021\n",
            " 11589.98916347 10219.73055646 12332.73441908 15084.33280086\n",
            " 11524.44839722 10165.94740541  7867.45418224 26458.13138354\n",
            "  8880.06226006 12046.35553923  9939.77499041 13266.79072559\n",
            " 24708.85801484 11708.33080795 20308.49578308 19073.34245684\n",
            " 10901.09043899  3678.07760017 13823.07275602  7704.74973128\n",
            " 13043.80112074 11385.28848917 23143.16351755]\n"
          ]
        }
      ]
    },
    {
      "cell_type": "code",
      "source": [],
      "metadata": {
        "id": "_EWZQ3Yayn8w"
      },
      "execution_count": null,
      "outputs": []
    },
    {
      "cell_type": "markdown",
      "source": [
        "**8. Case Scenario Analysis & Predicted Hospitalization Cost:**"
      ],
      "metadata": {
        "id": "gWG0o3cFzJ6i"
      }
    },
    {
      "cell_type": "code",
      "source": [
        "import pandas as pd\n",
        "from sklearn.compose import ColumnTransformer\n",
        "from sklearn.preprocessing import OneHotEncoder, FunctionTransformer # Import FunctionTransformer\n",
        "from sklearn.pipeline import Pipeline\n",
        "from sklearn.preprocessing import StandardScaler\n",
        "from sklearn.linear_model import LinearRegression\n",
        "from sklearn.impute import SimpleImputer\n",
        "import numpy as np\n",
        "from datetime import datetime\n",
        "\n",
        "# Patient information for case scenario\n",
        "patient_data = {\n",
        "    'year': [1988],\n",
        "    'month': [12],\n",
        "    'date': [28],\n",
        "    'children': [2],\n",
        "    'Hospital tier': ['tier-1'],\n",
        "    'City tier': ['tier-1'],\n",
        "    'State ID': ['R1011'],\n",
        "    'BMI': [85 / (1.70**2)],  # BMI calculation\n",
        "    'HBA1C': [5.8],\n",
        "    'Heart Issues': ['no'],\n",
        "    'Any Transplants': ['no'],\n",
        "    'Cancer history': ['yes'],\n",
        "    'NumberOfMajorSurgeries': [0],\n",
        "    'smoker': ['yes'],\n",
        "    'Gender': ['Female']  # Directly adding the Gender field\n",
        "}\n",
        "\n",
        "# Convert to DataFrame\n",
        "patient_df = pd.DataFrame(patient_data)\n",
        "\n",
        "# Calculate age based on date of birth\n",
        "current_year = datetime.now().year\n",
        "patient_df['Age'] = current_year - patient_df['year']\n",
        "\n",
        "# Prepare the data for modeling\n",
        "X = merged_df.drop(columns=['charges'])\n",
        "y = merged_df['charges']\n",
        "\n",
        "# Ensure X_patient has the same columns as X\n",
        "missing_cols = set(X.columns) - set(patient_df.columns)\n",
        "for col in missing_cols:\n",
        "    patient_df[col] = 0\n",
        "\n",
        "# Reorder columns to match the order in X\n",
        "patient_df = patient_df[X.columns]\n",
        "\n",
        "# Ensure all columns have the correct type\n",
        "for col in patient_df.select_dtypes(include=['object']).columns:\n",
        "    patient_df[col] = patient_df[col].astype(str)\n",
        "\n",
        "for col in patient_df.select_dtypes(include=['number']).columns:\n",
        "    patient_df[col] = pd.to_numeric(patient_df[col])\n",
        "\n",
        "# Identify categorical columns\n",
        "categorical_cols = X.select_dtypes(include=['object']).columns\n",
        "\n",
        "# Create a ColumnTransformer to handle preprocessing for different columns\n",
        "# Convert categorical columns to string type before OneHotEncoding\n",
        "preprocessor = ColumnTransformer(\n",
        "    transformers=[\n",
        "        ('num', SimpleImputer(strategy='mean'), X.select_dtypes(exclude=['object']).columns),\n",
        "        ('cat', Pipeline([\n",
        "            ('string_converter', FunctionTransformer(lambda x: x.astype(str), validate=False)), # Convert to string\n",
        "            ('onehot', OneHotEncoder(handle_unknown='ignore', sparse_output=False))\n",
        "        ]), categorical_cols)\n",
        "    ])\n",
        "\n",
        "\n",
        "# Create a pipeline with the preprocessor and the model\n",
        "pipeline = Pipeline([\n",
        "    ('preprocessor', preprocessor),\n",
        "    ('scaler', StandardScaler(with_mean=False)),\n",
        "    ('regressor', LinearRegression())\n",
        "])\n",
        "\n",
        "# Fit the pipeline on the entire dataset\n",
        "pipeline.fit(X, y)\n",
        "\n",
        "# Preprocess the patient data\n",
        "patient_df_processed = pipeline.named_steps['preprocessor'].transform(patient_df)\n",
        "\n",
        "# Scale the patient data\n",
        "patient_df_scaled = pipeline.named_steps['scaler'].transform(patient_df_processed)\n",
        "\n",
        "# Predict the cost for the patient in the case scenario\n",
        "predicted_cost = pipeline.named_steps['regressor'].predict(patient_df_scaled)\n",
        "print(f'Estimated hospitalization cost for the patient: {predicted_cost[0]}')"
      ],
      "metadata": {
        "colab": {
          "base_uri": "https://localhost:8080/"
        },
        "id": "ulecWAH-zRaN",
        "outputId": "396f3b84-1a46-4d4c-9cd5-fc7b88e6dd20"
      },
      "execution_count": 34,
      "outputs": [
        {
          "output_type": "stream",
          "name": "stdout",
          "text": [
            "Estimated hospitalization cost for the patient: 21348.244202499744\n"
          ]
        }
      ]
    },
    {
      "cell_type": "code",
      "source": [],
      "metadata": {
        "id": "TYJZ-RR5zUF3"
      },
      "execution_count": null,
      "outputs": []
    }
  ]
}